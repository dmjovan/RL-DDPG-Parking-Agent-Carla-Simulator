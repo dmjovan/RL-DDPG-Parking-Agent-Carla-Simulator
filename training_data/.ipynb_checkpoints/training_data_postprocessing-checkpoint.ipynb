{
 "cells": [
  {
   "cell_type": "markdown",
   "metadata": {},
   "source": [
    "## Importing necessary libraries"
   ]
  },
  {
   "cell_type": "code",
   "execution_count": 1,
   "metadata": {},
   "outputs": [],
   "source": [
    "import numpy as np\n",
    "import pandas as pd\n",
    "import os\n",
    "import matplotlib.pyplot as plt"
   ]
  },
  {
   "cell_type": "markdown",
   "metadata": {},
   "source": [
    "## Extracting data from csv files"
   ]
  },
  {
   "cell_type": "code",
   "execution_count": 3,
   "metadata": {},
   "outputs": [],
   "source": [
    "DATA_PATH = os.getcwd()+ '/data/'\n",
    "IMAGES_PATH = os.getcwd()+ '/images/'\n",
    "\n",
    "training_name = '6th_training'\n",
    "\n",
    "TOTAL_EPISODES = 1000\n",
    "AVERAGE_EPISODES_COUNT = 40\n",
    "\n",
    "def read_data(path):\n",
    "    df = pd.read_csv(path)\n",
    "    data = df.to_numpy().reshape((len(df),))\n",
    "    return data\n",
    "    \n",
    "rewards = read_data(DATA_PATH + training_name + '_rewards.csv')\n",
    "steps = read_data(DATA_PATH + training_name + '_steps.csv')\n",
    "episodic_rewards = read_data(DATA_PATH + training_name + '_episodic_rewards.csv')\n",
    "average_episodic_rewards = read_data(DATA_PATH + training_name + '_average_episodic_rewards.csv')\n"
   ]
  },
  {
   "cell_type": "code",
   "execution_count": null,
   "metadata": {},
   "outputs": [],
   "source": [
    "fig, axes = plt.subplots(ncols=2, nrows=1, figsize = (20,10), dpi = 120)\n",
    "ax = axes.ravel()\n",
    "\n",
    "ax[0].plot(np.arange(1,episodic_rewards.shape[0]+1), episodic_rewards, color='tomato', linewidth=1.0, label='episodic')\n",
    "ax[0].plot(np.arange(1,average_episodic_rewards.shape[0]+1), average_episodic_rewards, color='darkgreen', linewidth=1.5, label='average episodic')\n",
    "ax[0].grid()\n",
    "ax[0].set_xlabel('Episode', fontsize=16)\n",
    "ax[0].set_ylabel('Rt', fontsize=16)\n",
    "ax[0].set_title('Episodic and Average Episodic Reward \\n(average over every last {} episodes)'.format(AVERAGE_EPISODES_COUNT), fontsize=16)\n",
    "ax[0].legend(loc='upper left')\n",
    "\n",
    "ax[1].plot(np.arange(1,episodic_rewards.shape[0]+1), np.log(1+abs(min(episodic_rewards))+episodic_rewards), color='tomato', linewidth=1.0, label='episodic')\n",
    "ax[1].plot(np.arange(1,average_episodic_rewards.shape[0]+1), np.log(1+abs(min(average_episodic_rewards))+average_episodic_rewards), color='darkgreen', linewidth=1.5, label='average episodic')\n",
    "ax[1].grid()\n",
    "ax[1].set_xlabel('Episode', fontsize=16)\n",
    "ax[1].set_ylabel('Rt', fontsize=16)\n",
    "ax[1].set_title('Episodic and Average Episodic Reward (in log y scale)\\n(average over every last {} episodes)'.format(AVERAGE_EPISODES_COUNT), fontsize=16)\n",
    "ax[1].legend(loc='upper left')\n",
    "\n",
    "plt.tight_layout()\n",
    "plt.show()\n",
    "\n",
    "fig.savefig(IMAGES_PATH + training_name + '_episodic_and_average_rewards', facecolor = 'white', bbox_inches='tight')"
   ]
  },
  {
   "cell_type": "code",
   "execution_count": null,
   "metadata": {},
   "outputs": [],
   "source": [
    "LEFT_INDEX = -51\n",
    "RIGHT_INDEX = -1\n",
    "\n",
    "left_index_for_title = LEFT_INDEX+1 if LEFT_INDEX >= 0 else TOTAL_EPISODES+LEFT_INDEX+1\n",
    "right_index_for_title = RIGHT_INDEX+1 if RIGHT_INDEX >= 0 else TOTAL_EPISODES+RIGHT_INDEX+1\n",
    "\n",
    "MIN_REWARD = -1.0\n",
    "\n",
    "last_episodes_rewards = rewards[steps[LEFT_INDEX]:steps[RIGHT_INDEX]]\n",
    "\n",
    "fig = plt.figure(figsize=(20,10), dpi=120)\n",
    "plt.plot(np.arange(steps[LEFT_INDEX],steps[RIGHT_INDEX]), last_episodes_rewards, color='darkgreen', label='iteration reward')\n",
    "\n",
    "for step in steps[LEFT_INDEX:RIGHT_INDEX]:\n",
    "    if step == steps[RIGHT_INDEX-1]:\n",
    "        plt.axvline(step,color='tomato', linestyle='--', label='end of episode')\n",
    "    else:\n",
    "        plt.axvline(step,color='tomato', linestyle='--')\n",
    "    \n",
    "plt.axhline(MIN_REWARD, color='blue', linestyle='-.', label='min reward')\n",
    "plt.title('Iteration rewards from {:d}. to {:d}. episode'.format(left_index_for_title, right_index_for_title), fontsize=16)\n",
    "plt.xlabel('#No. Iteration', fontsize=16)\n",
    "plt.ylabel('Rt', fontsize=16)\n",
    "plt.legend(loc='upper right')\n",
    "plt.grid()\n",
    "\n",
    "plt.tight_layout()\n",
    "plt.show()\n",
    "\n",
    "fig.savefig(IMAGES_PATH + training_name + '_iteration_rewards', facecolor = 'white', bbox_inches='tight')"
   ]
  }
 ],
 "metadata": {
  "kernelspec": {
   "display_name": "Python 3",
   "language": "python",
   "name": "python3"
  },
  "language_info": {
   "codemirror_mode": {
    "name": "ipython",
    "version": 3
   },
   "file_extension": ".py",
   "mimetype": "text/x-python",
   "name": "python",
   "nbconvert_exporter": "python",
   "pygments_lexer": "ipython3",
   "version": "3.9.1"
  }
 },
 "nbformat": 4,
 "nbformat_minor": 4
}
