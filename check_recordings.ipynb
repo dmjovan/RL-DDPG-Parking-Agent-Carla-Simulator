{
 "cells": [
  {
   "cell_type": "code",
   "execution_count": 4,
   "metadata": {},
   "outputs": [
    {
     "name": "stdout",
     "output_type": "stream",
     "text": [
      "Good 3010\n",
      "Good 3014\n",
      "Good 3020\n",
      "Good 3482\n",
      "Good 3542\n",
      "Good 3627\n",
      "Good 3631\n",
      "Good 3632\n",
      "Good 3689\n",
      "Good 3967\n",
      "Good 3971\n",
      "Good 3986\n",
      "Good 3988\n",
      "Good 3995\n"
     ]
    }
   ],
   "source": [
    "import numpy as np\n",
    "import pandas as pd\n",
    "import os\n",
    "\n",
    "path = os.getcwd() + '/recordings/only_throttle/'\n",
    "\n",
    "recordings = []\n",
    "spawn_points = []\n",
    "\n",
    "for filename in os.listdir(path):\n",
    "\n",
    "    if filename.endswith('.csv') and not filename.endswith('_spawn_point.csv'):\n",
    "\n",
    "        episode_number = filename[:-4]\n",
    "\n",
    "        try:\n",
    "            rec = np.loadtxt(os.path.join(path, filename), delimiter=',')\n",
    "            rec = (np.reshape(rec, (rec.shape[0], 2))).tolist()\n",
    "            \n",
    "            print('Good ' + str(episode_number))\n",
    "\n",
    "            recordings.append(rec)\n",
    "            \n",
    "            df = pd.read_csv(os.path.join(path, episode_number + '_spawn_point.csv'))\n",
    "            x=df['x'][0]\n",
    "            y=df['y'][0]\n",
    "            z=df['z'][0]\n",
    "            yaw=float(df['yaw'][0])\n",
    "            \n",
    "        except Exception as e:\n",
    "            \n",
    "            print('Bad ' + str(episode_number))\n",
    "\n",
    "    else:\n",
    "        continue"
   ]
  }
 ],
 "metadata": {
  "kernelspec": {
   "display_name": "Python 3",
   "language": "python",
   "name": "python3"
  },
  "language_info": {
   "codemirror_mode": {
    "name": "ipython",
    "version": 3
   },
   "file_extension": ".py",
   "mimetype": "text/x-python",
   "name": "python",
   "nbconvert_exporter": "python",
   "pygments_lexer": "ipython3",
   "version": "3.9.1"
  }
 },
 "nbformat": 4,
 "nbformat_minor": 4
}
